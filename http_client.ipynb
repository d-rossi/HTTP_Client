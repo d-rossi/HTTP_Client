{
 "cells": [
  {
   "cell_type": "code",
   "execution_count": 1,
   "id": "19f18e02",
   "metadata": {},
   "outputs": [],
   "source": [
    "import socket"
   ]
  },
  {
   "cell_type": "code",
   "execution_count": 10,
   "id": "ba036f7f",
   "metadata": {},
   "outputs": [
    {
     "name": "stdout",
     "output_type": "stream",
     "text": [
      "HTTP/1.1 418 I'M A TEAPOT\r\n",
      "Date: Fri, 11 Feb 2022 14:38:20 GMT\r\n",
      "Content-Length: 135\r\n",
      "Connection: close\r\n",
      "Server: gunicorn/19.9.0\r\n",
      "x-more-info: http://tools.ietf.org/html/rfc2324\r\n",
      "Access-Control-Allow-Origin: *\r\n",
      "Access-Control-Allow-Credentials: true\r\n",
      "\r\n",
      "\n",
      "    -=[ teapot ]=-\n",
      "\n",
      "       _...._\n",
      "     .'  _ _ `.\n",
      "    | .\"` ^ `\". _,\n",
      "    \\_;`\"---\"`|//\n",
      "      |       ;/\n",
      "      \\_     _/\n",
      "        `\"\"\"`\n",
      "\n"
     ]
    }
   ],
   "source": [
    "host = \"httpbin.org\"\n",
    "port = 80\n",
    "mysock = socket.socket(socket.AF_INET, socket.SOCK_STREAM)\n",
    "mysock.connect((host, port))\n",
    "cmd = 'GET https://httpbin.org/status/418 HTTP/1.0\\n\\n'.encode()\n",
    "mysock.send(cmd)\n",
    "while True:\n",
    "    data = mysock.recv(512)\n",
    "    if (len(data) < 1):\n",
    "        break\n",
    "    print(data.decode())\n",
    "mysock.close()"
   ]
  },
  {
   "cell_type": "code",
   "execution_count": null,
   "id": "5a2bf225",
   "metadata": {},
   "outputs": [],
   "source": []
  }
 ],
 "metadata": {
  "kernelspec": {
   "display_name": "Python 3 (ipykernel)",
   "language": "python",
   "name": "python3"
  },
  "language_info": {
   "codemirror_mode": {
    "name": "ipython",
    "version": 3
   },
   "file_extension": ".py",
   "mimetype": "text/x-python",
   "name": "python",
   "nbconvert_exporter": "python",
   "pygments_lexer": "ipython3",
   "version": "3.7.3"
  }
 },
 "nbformat": 4,
 "nbformat_minor": 5
}
